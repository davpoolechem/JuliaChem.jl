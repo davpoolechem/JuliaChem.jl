{
 "cells": [
  {
   "cell_type": "markdown",
   "metadata": {},
   "source": [
    "The first step of running JuliaChem.jl is importing the JuliaChem module. As the JuliaChem.jl package is not yet registered, this will require either downloading JuliaChem.jl locally, or adding the JuliaChem.jl GitHub repository to Pkg."
   ]
  },
  {
   "cell_type": "code",
   "execution_count": null,
   "metadata": {},
   "outputs": [],
   "source": [
    "import JuliaChem"
   ]
  },
  {
   "cell_type": "markdown",
   "metadata": {},
   "source": [
    "The next step in running JuliaChem.jl is to initialize the JuliaChem.jl runtime. The JuliaChem.jl runtime is rather small, and consists entirely of the runtimes of underlying dependencies - MPI and Libint."
   ]
  },
  {
   "cell_type": "code",
   "execution_count": null,
   "metadata": {},
   "outputs": [],
   "source": [
    "JuliaChem.initialize()"
   ]
  },
  {
   "cell_type": "markdown",
   "metadata": {},
   "source": [
    "The third step in running JuliaChem.jl is processing input data. The input data can be divided into four parts - molecule data, driver data, general calculation data, and method keywords. These four parts are inspired by the QCSchema input scheme proposed by the Molecular Software Sciences Institute (MolSSI). More information about QCSchema can be seen at https://molssi-qc-schema.readthedocs.io/en/latest/.\n",
    "\n",
    "The first facet of the input data is molecule data. The molecule data object is a dictionary which contains information about the geometric coordinates of the system, the atomic symbols of the atoms contained within the system, and the charge of the system."
   ]
  },
  {
   "cell_type": "code",
   "execution_count": null,
   "metadata": {},
   "outputs": [],
   "source": [
    " molecule = Dict(\n",
    "    \"geometry\" => Vector{Float64}([\n",
    "      0.590897, -0.183399, 0.000435,\n",
    "     -1.641246, -0.546450, 0.137848,\n",
    "     -1.383137, 0.923506, -0.136258,\n",
    "      1.800002, -0.407804, -0.001621,\n",
    "     -0.328213, -1.143740, -0.120050,\n",
    "      0.056728, 1.036422, 0.117587,\n",
    "     -2.350634, -1.007192, -0.540576,\n",
    "     -1.890114, -0.751200, 1.176454,\n",
    "     -1.550934, 1.202357, -1.173788,\n",
    "     -1.890718, 1.596996, 0.545426,\n",
    "      3.351728, 0.639355, 0.004336\n",
    "    ]),\n",
    "    \"symbols\" => Vector{String}([\"C\", \"C\", \"C\", \"O\", \"O\", \"O\", \"H\", \"H\", \"H\", \"H\", \"Li\"]),\n",
    "    \"molecular_charge\" => zero(Int64)\n",
    ")"
   ]
  },
  {
   "cell_type": "markdown",
   "metadata": {},
   "source": [
    "The second facet of the input data is driver data. The driver data object is a String that dictates what type of calculation is performed. This is included for completeness with respect to the QCSchema, but it is not strictly necessary currently."
   ]
  },
  {
   "cell_type": "code",
   "execution_count": null,
   "metadata": {},
   "outputs": [],
   "source": [
    "driver = \"energy\""
   ]
  },
  {
   "cell_type": "markdown",
   "metadata": {},
   "source": [
    "The third facet of the input data is general calculation data. The calculation data object is a dictionary that contains information about the specific method used for the calculation, and the basis set chosen for the calculation.\n",
    "\n",
    "Currently, only the Restricted Hartree-Fock (RHF) method is supported as a method. As for basis sets, a reasonable number of Pople basis sets are supported, going up to Pople basis sets with f-shell inclusion. "
   ]
  },
  {
   "cell_type": "code",
   "execution_count": null,
   "metadata": {},
   "outputs": [],
   "source": [
    "model = Dict(\n",
    "  \"method\" => \"RHF\",\n",
    "  \"basis\" => \"6-31+G**\"\n",
    ")"
   ]
  },
  {
   "cell_type": "markdown",
   "metadata": {},
   "source": [
    "The final facet of the input data is the calculation keywords. The calculation keywords object is a dictionary that contains releavnt keywords controlling specifics of each step of the calculation. \n",
    "\n",
    "Currently, as the RHF energy step is the only supported calculation in JuliaChem.jl, the only keyword set available is for the \"scf\" step. Additionally, defaults have not yet implemented, so all available keywords must be defined beforehand."
   ]
  },
  {
   "cell_type": "code",
   "execution_count": null,
   "metadata": {},
   "outputs": [],
   "source": [
    "keywords = Dict(\n",
    "  \"scf\" => Dict(\n",
    "      \"niter\" => 100,\n",
    "      \"ndiis\" => 8,\n",
    "      \"dele\" => 1E-8,\n",
    "      \"rmsd\" => 1E-5,\n",
    "      \"prec\" => \"Float64\",\n",
    "      \"direct\" => true,\n",
    "      \"debug\" => false,\n",
    "      \"load\" => \"static\",\n",
    "      \"fdiff\" => true\n",
    "  )\n",
    ")"
   ]
  },
  {
   "cell_type": "markdown",
   "metadata": {},
   "source": [
    "The fourth step of running JuliaChem.jl is processing the input information to create basis set and molecule objects. These basis set and molecule objects are heavily used throughout the calculations that JuliaChem.jl performs. The basis set object contains information about the basis set shells, such as exponents and contraction coefficients, acquired from the Basis Set Exchange project created by MolSSI. This information is palatable to both JuliaChem.jl and the underlying Libint interface. The molecule object contains information about the coordinates and atoms within the system, also palatable to both JuliaChem.jl and the underlying Libint interface. \n",
    "\n",
    "This step requires the molecule and model dictionary input objects defined earlier as inputs. Additionally, an optional keyword input controlling the verbosity of the output can be input. By default, no output text is generated. "
   ]
  },
  {
   "cell_type": "code",
   "execution_count": null,
   "metadata": {},
   "outputs": [],
   "source": [
    "mol, basis = JuliaChem.JCBasis.run(molecule, model; output=\"none\")"
   ]
  },
  {
   "cell_type": "markdown",
   "metadata": {},
   "source": [
    "The fifth step of running JuliaChem is running the bulk of the calculation. For now, this will consist of running RHF energy calculations; however, new functionalities such as gradients and propery computations are also planned on being added. Certain properties require gradients and Hessians, both of which are currently being worked on.\n",
    "\n",
    "The molecule and basis set objects created in Step #4 are required; additionally, the scf keywords from the keywords input data are required. As before, there is an optional verbosity keyword to control print output. The verbosity output defaults to none, but we have elected to set it to verbose here.\n",
    "\n",
    "The return value object from an RHF energy calculation contains a variety of information - the RHF energy of the system, the final Fock and Density matrices, the final molecular orbital coefficients, and whether the calculation converged or not.\n",
    "\n"
   ]
  },
  {
   "cell_type": "code",
   "execution_count": null,
   "metadata": {
    "scrolled": true
   },
   "outputs": [],
   "source": [
    "rhf_energy = driver == \"energy\" ? \n",
    "    JuliaChem.JCRHF.run(mol, basis, keywords[\"scf\"]; output=\"verbose\") : 0.0"
   ]
  },
  {
   "cell_type": "markdown",
   "metadata": {},
   "source": [
    "The final step of running JuliaChem.jl is finalizing the JuliaChem.jl runtime. As with initialization, this is basically present only to finalize the MPI and Libint runtimes."
   ]
  },
  {
   "cell_type": "code",
   "execution_count": null,
   "metadata": {},
   "outputs": [],
   "source": [
    "JuliaChem.finalize()"
   ]
  },
  {
   "cell_type": "markdown",
   "metadata": {},
   "source": [
    "And there we go! We have run a calculation using JuliaChem.jl!"
   ]
  },
  {
   "cell_type": "code",
   "execution_count": null,
   "metadata": {},
   "outputs": [],
   "source": []
  }
 ],
 "metadata": {
  "kernelspec": {
   "display_name": "Julia 1.5.0",
   "language": "julia",
   "name": "julia-1.5"
  },
  "language_info": {
   "file_extension": ".jl",
   "mimetype": "application/julia",
   "name": "julia",
   "version": "1.5.0"
  }
 },
 "nbformat": 4,
 "nbformat_minor": 2
}
